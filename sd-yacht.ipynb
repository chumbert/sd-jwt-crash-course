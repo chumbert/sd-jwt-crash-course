{
 "cells": [
  {
   "cell_type": "markdown",
   "metadata": {
    "collapsed": false,
    "jupyter": {
     "outputs_hidden": false
    }
   },
   "source": [
    "# What is this notebook ?\n",
    "\n",
    "This notebook is meant as a short demonstration of what an SD-JWT is and look like. It goes through what are the main technical capabilities, opportunities and shortcomings of the credential format.\n",
    "\n",
    "We'll use [the OpenWalletFoundation library](https://github.com/openwallet-foundation-labs/sd-jwt-python) to issue and present SD-JWTs and get an understanding of the format."
   ]
  },
  {
   "cell_type": "markdown",
   "metadata": {
    "collapsed": false,
    "jupyter": {
     "outputs_hidden": false
    }
   },
   "source": [
    "# \"Es die Yacht\" 🛥️ ?\n",
    "\n",
    "**SD-JWT** stands for **S**elective **D**isclosure for **JWT**s.\n",
    "\n",
    "Let's issue an SD-JWT:"
   ]
  },
  {
   "cell_type": "code",
   "execution_count": 1,
   "metadata": {
    "collapsed": false,
    "jupyter": {
     "outputs_hidden": false
    }
   },
   "outputs": [],
   "source": [
    "from sd_jwt.common import SDObj\n",
    "from jwcrypto.jwk import JWK\n",
    "from issuance_demo import issue_simple_sd_jwt\n",
    "from explain import *\n",
    "\n",
    "# Generate a key for the issuer\n",
    "issuer_key = JWK.generate(kty='EC', crv='P-256')\n",
    "\n",
    "# Issue specifies two selectively disclosable claims and a regular JWT claim\n",
    "claims = {\n",
    "    SDObj(\"look\"): \"duck\", # <--- can selectively disclose\n",
    "    SDObj(\"quack\"): \"duck\", # <--- can selectively disclose\n",
    "    \"walk\": \"duck\", # <--- cannot be selectively disclosed, embedded in the JWT claims\n",
    "}\n",
    "sd_jwt, serialized_sd_jwt, disclosures, full_issuance_payload = issue_simple_sd_jwt(issuer_key, claims)"
   ]
  },
  {
   "cell_type": "markdown",
   "metadata": {
    "collapsed": false,
    "jupyter": {
     "outputs_hidden": false
    }
   },
   "source": [
    "# If it looks like a 🦆 and quacks like a 🦆..."
   ]
  },
  {
   "cell_type": "code",
   "execution_count": 2,
   "metadata": {
    "collapsed": false,
    "jupyter": {
     "outputs_hidden": false
    }
   },
   "outputs": [
    {
     "name": "stdout",
     "output_type": "stream",
     "text": [
      "The SD-JWT: \u001b[31meyJhbGciOiAiRVMyNTYiLCAidHlwIjogImV4YW1wbGUrc2Qtand0In0\u001b[0m.\u001b[32meyJfc2QiOiBbIjhsWGFfOHRaSkpUUFM5TGdlTnZ3RS1CZVVtRlFhYmQwcTMxWVJUdTNVM3ciLCAiVGhyTHJxc0JHaFlqMDZFNENSTXdOOEVtUkt4SDJOX052WndEU3JvZ0pVYyJdLCAid2FsayI6ICJkdWNrIiwgIl9zZF9hbGciOiAic2hhLTI1NiJ9\u001b[0m.\u001b[33m7V-u4ljVBleGgz4hatR-7GAgzSgvkbnQahM3vYIMm7OgE3BaffQfsEn6H3IslyrYT13YHQJa5qwZxj4wlF4sUw\u001b[0m\n",
      "\n",
      "Decoded body:\n",
      "\u001b[32m{\n",
      "  \"_sd\": [\n",
      "    \"8lXa_8tZJJTPS9LgeNvwE-BeUmFQabd0q31YRTu3U3w\",\n",
      "    \"ThrLrqsBGhYj06E4CRMwN8EmRKxH2N_NvZwDSrogJUc\"\n",
      "  ],\n",
      "  \"walk\": \"duck\",\n",
      "  \"_sd_alg\": \"sha-256\"\n",
      "}\u001b[0m\n"
     ]
    }
   ],
   "source": [
    "# Tadaa, it's just a JWT with weird content\n",
    "print(\"The SD-JWT: \" + explain_jwt(serialized_sd_jwt))\n",
    "headers, body, signature = serialized_sd_jwt.split('.')\n",
    "print()\n",
    "print(\"Decoded body:\")\n",
    "print(f\"\\x1b[32m{pretty(b64decode(body))}\\x1b[0m\")"
   ]
  },
  {
   "cell_type": "markdown",
   "metadata": {
    "collapsed": false,
    "jupyter": {
     "outputs_hidden": false
    }
   },
   "source": [
    "# What is this _sd stuff ?\n",
    "\n",
    "Along the JWT, the holder receives list of disclosures; each composed of a salt, claim name and value."
   ]
  },
  {
   "cell_type": "code",
   "execution_count": 3,
   "metadata": {
    "collapsed": false,
    "jupyter": {
     "outputs_hidden": false
    }
   },
   "outputs": [
    {
     "name": "stdout",
     "output_type": "stream",
     "text": [
      "Disclosures:\n",
      "[\n",
      "    \u001b[31mDpE9LJ2SHaR23KFuCtCSbQ\u001b[0m, <--- 🧂\n",
      "    \u001b[32mlook\u001b[0m, <--- claim name\"\n",
      "    \u001b[33mduck\u001b[0m <--- claim value\"\n",
      "]\n",
      "[\n",
      "    \u001b[31m-JldcDGqa00ImdPUCFUvlA\u001b[0m, <--- 🧂\n",
      "    \u001b[32mquack\u001b[0m, <--- claim name\"\n",
      "    \u001b[33mduck\u001b[0m <--- claim value\"\n",
      "]\n",
      "Base64ed: ['WyJEcEU5TEoyU0hhUjIzS0Z1Q3RDU2JRIiwgImxvb2siLCAiZHVjayJd', 'WyItSmxkY0RHcWEwMEltZFBVQ0ZVdmxBIiwgInF1YWNrIiwgImR1Y2siXQ']\n",
      "Encoded SHA-256 digests: ['ThrLrqsBGhYj06E4CRMwN8EmRKxH2N_NvZwDSrogJUc', '8lXa_8tZJJTPS9LgeNvwE-BeUmFQabd0q31YRTu3U3w'] <--- this is what was in the _sd array\n"
     ]
    }
   ],
   "source": [
    "print(f\"Disclosures:\")\n",
    "for d in disclosures:\n",
    "    print(explain_disclosure(d.json))\n",
    "print(f\"Base64ed: {[d.b64 for d in disclosures]}\")\n",
    "print(f\"Encoded SHA-256 digests: {[d.hash for d in disclosures]} <--- this is what was in the _sd array\")"
   ]
  },
  {
   "cell_type": "markdown",
   "metadata": {},
   "source": [
    "Let's recap the components of and SD-JWT as it is being issued:\n",
    "\n",
    "![](images/issuance-parts.jpg)\n",
    "\n",
    "We'll go through the relation between disclosures and salts in the presentation section.\n",
    "\n",
    "\n",
    "**A noteworthy technical constraint is that the issuer has to explicitly specify claims as selectively disclosable. It is not something the holder can choose and compute after issuance.**"
   ]
  },
  {
   "cell_type": "markdown",
   "metadata": {
    "collapsed": false,
    "jupyter": {
     "outputs_hidden": false
    }
   },
   "source": [
    "# Presenting an SD-JWT\n",
    "\n",
    "Presentation of an SD-JWT consists of the JWT itself (`header.body.signature`) with the requested disclosures appended, separated by `~`, terminated by the optional keybinding JWT (more on that later).\n",
    "\n",
    "So, in complete form: `header.body.signature~disclosure1~...~disclosureN~keybinding-jwt`"
   ]
  },
  {
   "cell_type": "code",
   "execution_count": 4,
   "metadata": {
    "collapsed": false,
    "jupyter": {
     "outputs_hidden": false
    }
   },
   "outputs": [
    {
     "name": "stdout",
     "output_type": "stream",
     "text": [
      "Presentation:\n",
      "\u001b[31meyJhbGciOiAiRVMyNTYiLCAidHlwIjogImV4YW1wbGUrc2Qtand0In0\u001b[0m.\u001b[32meyJfc2QiOiBbIjhsWGFfOHRaSkpUUFM5TGdlTnZ3RS1CZVVtRlFhYmQwcTMxWVJUdTNVM3ciLCAiVGhyTHJxc0JHaFlqMDZFNENSTXdOOEVtUkt4SDJOX052WndEU3JvZ0pVYyJdLCAid2FsayI6ICJkdWNrIiwgIl9zZF9hbGciOiAic2hhLTI1NiJ9\u001b[0m.\u001b[33m7V-u4ljVBleGgz4hatR-7GAgzSgvkbnQahM3vYIMm7OgE3BaffQfsEn6H3IslyrYT13YHQJa5qwZxj4wlF4sUw\u001b[0m~\u001b[34mWyItSmxkY0RHcWEwMEltZFBVQ0ZVdmxBIiwgInF1YWNrIiwgImR1Y2siXQ\u001b[0m~\u001b[35mWyJEcEU5TEoyU0hhUjIzS0Z1Q3RDU2JRIiwgImxvb2siLCAiZHVjayJd\u001b[0m~\u001b[36m\u001b[0m\n",
      "==================================================\n",
      "Presentation body: \u001b[32m{\n",
      "  \"_sd\": [\n",
      "    \"8lXa_8tZJJTPS9LgeNvwE-BeUmFQabd0q31YRTu3U3w\",\n",
      "    \"ThrLrqsBGhYj06E4CRMwN8EmRKxH2N_NvZwDSrogJUc\"\n",
      "  ],\n",
      "  \"walk\": \"duck\",\n",
      "  \"_sd_alg\": \"sha-256\"\n",
      "}\u001b[0m\n"
     ]
    }
   ],
   "source": [
    "from issuance_demo import create_presentation\n",
    "from base64 import urlsafe_b64encode\n",
    "from hashlib import sha256\n",
    "\n",
    "# Let's create a presentation that discloses the values of \"look\" and \"quack\" claims\n",
    "presentation, disclosures = create_presentation(full_issuance_payload, [\"look\", \"quack\"])\n",
    "\n",
    "print(\"Presentation:\")\n",
    "print(explain_jwt(presentation, presentation_jwt=True))\n",
    "print(\"=\"*50)\n",
    "\n",
    "body = b64decode(presentation.split('.')[1])\n",
    "print(f\"Presentation body: \\x1b[32m{pretty(body)}\\x1b[0m\")\n",
    "\n",
    "\n",
    "# Make sure the disclosure is the one that was issued with the JWT\n",
    "ascii_encoded_disclosure = disclosures[0].encode('ascii')\n",
    "disclosure_digest = sha256(ascii_encoded_disclosure).digest()\n",
    "urlencoded_digest = urlsafe_b64encode(disclosure_digest).decode('utf-8').strip('=')"
   ]
  },
  {
   "cell_type": "markdown",
   "metadata": {},
   "source": [
    "Here's a schematic summary of the parts that compose an SD-JWT presentation:\n",
    "\n",
    "\n",
    "![](images/presentation.jpg)\n",
    "\n",
    "\n",
    "**A noteworthy technical detail is that presenting a JWT with `~` appended is a valid SD-JWT presentation. It represents an SD-JWT without disclosures shared and without keybinding JWT (more on that later). This provides existing IdPs with a very straightforward path to SD-JWT compatibility.**"
   ]
  },
  {
   "cell_type": "markdown",
   "metadata": {
    "collapsed": false,
    "jupyter": {
     "outputs_hidden": false
    }
   },
   "source": [
    "# How is the disclosure tied to the JWT ?"
   ]
  },
  {
   "cell_type": "code",
   "execution_count": 5,
   "metadata": {
    "collapsed": false,
    "jupyter": {
     "outputs_hidden": false
    }
   },
   "outputs": [
    {
     "name": "stdout",
     "output_type": "stream",
     "text": [
      "\n",
      "-----------------------------------------------                              \n",
      "| [\"-JldcDGqa00ImdPUCFUvlA\", \"quack\", \"duck\"] | --->  URL-safe base 64  ---> \n",
      "-----------------------------------------------                              \n",
      "\n",
      "--------------------------------------------------------------                     -----------------------------------------------\n",
      "| \u001b[34mWyItSmxkY0RHcWEwMEltZFBVQ0ZVdmxBIiwgInF1YWNrIiwgImR1Y2siXQ\u001b[0m | --->  SHA-256  ---> | \u001b[31m8lXa_8tZJJTPS9LgeNvwE-BeUmFQabd0q31YRTu3U3w\u001b[0m |\n",
      "--------------------------------------------------------------                     -----------------------------------------------\n",
      "\n",
      "Presentation body: {\n",
      "  \"_sd\": [\n",
      "    \"\u001b[31m8lXa_8tZJJTPS9LgeNvwE-BeUmFQabd0q31YRTu3U3w\u001b[0m\",\n",
      "    \"ThrLrqsBGhYj06E4CRMwN8EmRKxH2N_NvZwDSrogJUc\"\n",
      "  ],\n",
      "  \"walk\": \"duck\",\n",
      "  \"_sd_alg\": \"sha-256\"\n",
      "}\n"
     ]
    }
   ],
   "source": [
    "# Make sure the disclosure is the one that was issued with the JWT\n",
    "# hash the disclosure base64 that was shared and base64 the result, compare to _sd array content\n",
    "ascii_encoded_disclosure = disclosures[0].encode('ascii')\n",
    "disclosure_digest = sha256(ascii_encoded_disclosure).digest()\n",
    "urlencoded_digest = urlsafe_b64encode(disclosure_digest).decode('utf-8').strip('=')\n",
    "\n",
    "# Display nicely\n",
    "explain_hashing(\n",
    "    b64decode(disclosures[0]),\n",
    "    highlight(disclosures[0], disclosures[0], 34),\n",
    "    highlight(urlencoded_digest, urlencoded_digest),\n",
    "    screen_width=150\n",
    ")\n",
    "print()\n",
    "print(f\"Presentation body: {highlight(pretty(body), urlencoded_digest)}\")"
   ]
  },
  {
   "cell_type": "markdown",
   "metadata": {
    "collapsed": false,
    "jupyter": {
     "outputs_hidden": false
    }
   },
   "source": [
    "# Holder binding\n",
    "\n",
    "To prove binding of an SD-JWT to a particular holder key, work from all parties is required:\n",
    "* The issuer must include the key in the SD-JWT body. [Specification](https://datatracker.ietf.org/doc/html/draft-ietf-oauth-selective-disclosure-jwt-05#name-holder-public-key-claim)\n",
    "  is using the `cnf` (confirmation) claim, it seems to be non-normative,\n",
    "* The holder must create a *key binding JWT* when presenting the SD-JWT. This token must be signed with the key referenced in the SD-JWT claim,\n",
    "* The verifier has to verify the validity of the key binding JWT and verify that it's signature key is the one in the SD-JWT claim."
   ]
  },
  {
   "cell_type": "code",
   "execution_count": 6,
   "metadata": {
    "collapsed": false,
    "jupyter": {
     "outputs_hidden": false
    }
   },
   "outputs": [
    {
     "name": "stdout",
     "output_type": "stream",
     "text": [
      "The SD-JWT: \u001b[31meyJhbGciOiAiRVMyNTYiLCAidHlwIjogImV4YW1wbGUrc2Qtand0In0\u001b[0m.\u001b[32meyJfc2QiOiBbIk8wOGZuTUJYTWpZVGpXMGFXU2d3MGFGLUhNdDhQVXRKVWt6T0Yyd3JyUm8iLCAiZXFzM2t3bnNzTFpVaDNYbGRDbVZ5SDF2S19iOEFHNE9PdW1FQ1JqUjFDSSJdLCAid2FsayI6ICJkdWNrIiwgIl9zZF9hbGciOiAic2hhLTI1NiIsICJjbmYiOiB7Imp3ayI6IHsia3R5IjogIkVDIiwgImNydiI6ICJQLTI1NiIsICJ4IjogImlWY3hOUzNUWGJCeFBVZTVnb1BBdVM0WjJZaFladUlvczBZenNCZl9TZXMiLCAieSI6ICJOVVFZeC12eXRTWjMwaTdObmlPcGdQeUhnMEt5SF9qTUp6WFE0NVdWclFvIn19fQ\u001b[0m.\u001b[33m21HsQimd5V1SvI2bc93QpPp6-4hgrwvnM5NSIML4Wrsr3mnTLo3uN6h5WWISxv8TRNBw5bvMzl9wyeoVI8PmUg\u001b[0m\n",
      "\n",
      "Decoded body:\n",
      "\u001b[32m{\n",
      "  \"_sd\": [\n",
      "    \"O08fnMBXMjYTjW0aWSgw0aF-HMt8PUtJUkzOF2wrrRo\",\n",
      "    \"eqs3kwnssLZUh3XldCmVyH1vK_b8AG4OOumECRjR1CI\"\n",
      "  ],\n",
      "  \"walk\": \"duck\",\n",
      "  \"_sd_alg\": \"sha-256\",\n",
      "  \"cnf\": {\n",
      "    \"jwk\": {\n",
      "      \"kty\": \"EC\",\n",
      "      \"crv\": \"P-256\",\n",
      "      \"x\": \"iVcxNS3TXbBxPUe5goPAuS4Z2YhYZuIos0YzsBf_Ses\",\n",
      "      \"y\": \"NUQYx-vytSZ30i7NniOpgPyHg0KyH_jMJzXQ45WVrQo\"\n",
      "    }\n",
      "  }\n",
      "}\u001b[0m\n"
     ]
    }
   ],
   "source": [
    "# Here we go again\n",
    "holder_key = JWK.generate(kty='EC', crv='P-256')\n",
    "\n",
    "claims = {\n",
    "    SDObj(\"look\"): \"duck\",\n",
    "    SDObj(\"quack\"): \"duck\",\n",
    "    \"walk\": \"duck\",\n",
    "}\n",
    "sd_jwt, serialized_sd_jwt, disclosures, full_issuance_payload = issue_simple_sd_jwt(issuer_key, claims, holder_key.public())\n",
    "\n",
    "print(\"The SD-JWT: \" + explain_jwt(serialized_sd_jwt))\n",
    "headers, body, signature = serialized_sd_jwt.split('.')\n",
    "print()\n",
    "print(\"Decoded body:\")\n",
    "print(f\"\\x1b[32m{pretty(b64decode(body))}\\x1b[0m\")"
   ]
  },
  {
   "cell_type": "markdown",
   "metadata": {
    "collapsed": false,
    "jupyter": {
     "outputs_hidden": false
    }
   },
   "source": [
    "## Presenting the SD-JWT with Key Binding"
   ]
  },
  {
   "cell_type": "code",
   "execution_count": 7,
   "metadata": {
    "collapsed": false,
    "jupyter": {
     "outputs_hidden": false
    }
   },
   "outputs": [
    {
     "name": "stdout",
     "output_type": "stream",
     "text": [
      "Presentation:\n",
      "\u001b[31meyJhbGciOiAiRVMyNTYiLCAidHlwIjogImV4YW1wbGUrc2Qtand0In0\u001b[0m.\u001b[32meyJfc2QiOiBbIk8wOGZuTUJYTWpZVGpXMGFXU2d3MGFGLUhNdDhQVXRKVWt6T0Yyd3JyUm8iLCAiZXFzM2t3bnNzTFpVaDNYbGRDbVZ5SDF2S19iOEFHNE9PdW1FQ1JqUjFDSSJdLCAid2FsayI6ICJkdWNrIiwgIl9zZF9hbGciOiAic2hhLTI1NiIsICJjbmYiOiB7Imp3ayI6IHsia3R5IjogIkVDIiwgImNydiI6ICJQLTI1NiIsICJ4IjogImlWY3hOUzNUWGJCeFBVZTVnb1BBdVM0WjJZaFladUlvczBZenNCZl9TZXMiLCAieSI6ICJOVVFZeC12eXRTWjMwaTdObmlPcGdQeUhnMEt5SF9qTUp6WFE0NVdWclFvIn19fQ\u001b[0m.\u001b[33m21HsQimd5V1SvI2bc93QpPp6-4hgrwvnM5NSIML4Wrsr3mnTLo3uN6h5WWISxv8TRNBw5bvMzl9wyeoVI8PmUg\u001b[0m~\u001b[34mWyJjWlE0azJFQV8zOGVKcnBnM3Zjd2lnIiwgInF1YWNrIiwgImR1Y2siXQ\u001b[0m~\u001b[35mWyJwTGhnWHNNZ1RlQmtqS01nRC11RDh3IiwgImxvb2siLCAiZHVjayJd\u001b[0m~\u001b[36meyJhbGciOiAiRVMyNTYiLCAidHlwIjogImtiK2p3dCJ9.eyJub25jZSI6ICJhLXZlcnktc2VjcmV0LWFuZC1yYW5kb20tbm9uY2UiLCAiYXVkIjogInRoZS12ZXJpZmllciIsICJpYXQiOiAxNzAyNjUwNzE0LCAiX3NkX2hhc2giOiAidm5adjBHT2c5WEF5aTJaOWE1Zjh0YWprUDhpSk5mWVhUV05pSllBazVFTSJ9.HcQikxQTSnw5Yf4smZ_MUvoplyw1buXaH9tceqX5fGuoOnLqEBmhTc85hSbupxihvWDVD-UdyXrOwp69A3yvpw\u001b[0m\n"
     ]
    }
   ],
   "source": [
    "presentation, _ = create_presentation(\n",
    "    full_issuance_payload, [\"look\", \"quack\"],\n",
    "    nonce=\"a-very-secret-and-random-nonce\",\n",
    "    aud=\"the-verifier\",\n",
    "    holder_key=holder_key\n",
    ")\n",
    "\n",
    "print(\"Presentation:\")\n",
    "print(explain_jwt(presentation, presentation_jwt=True))"
   ]
  },
  {
   "cell_type": "markdown",
   "metadata": {
    "collapsed": false,
    "jupyter": {
     "outputs_hidden": false
    }
   },
   "source": [
    "## Let's see what's inside the key binding JWT\n",
    "\n",
    "The [keybinding JWT](https://datatracker.ietf.org/doc/html/draft-ietf-oauth-selective-disclosure-jwt-05#name-key-binding-jwt) must\n",
    "be of type `kb+jwt` and contain a nonce (for freshness of signature), the audience (the verifier) and the keybinding JWT issuance time.\n",
    "\n",
    "The way the nonce is exchanged between verifier and holder is left out of the specification. It should be in the scope of the protocol used to verify the SD-JWT.\n",
    "\n",
    "The keybinding JWT can optionally be bound to a presentation by including a hash of the presentation in the claims."
   ]
  },
  {
   "cell_type": "code",
   "execution_count": 8,
   "metadata": {
    "collapsed": false,
    "jupyter": {
     "outputs_hidden": false
    }
   },
   "outputs": [
    {
     "name": "stdout",
     "output_type": "stream",
     "text": [
      "Key binding JWT:\n",
      "\u001b[31meyJhbGciOiAiRVMyNTYiLCAidHlwIjogImtiK2p3dCJ9\u001b[0m.\u001b[32meyJub25jZSI6ICJhLXZlcnktc2VjcmV0LWFuZC1yYW5kb20tbm9uY2UiLCAiYXVkIjogInRoZS12ZXJpZmllciIsICJpYXQiOiAxNzAyNjUwNzE0LCAiX3NkX2hhc2giOiAidm5adjBHT2c5WEF5aTJaOWE1Zjh0YWprUDhpSk5mWVhUV05pSllBazVFTSJ9\u001b[0m.\u001b[33mHcQikxQTSnw5Yf4smZ_MUvoplyw1buXaH9tceqX5fGuoOnLqEBmhTc85hSbupxihvWDVD-UdyXrOwp69A3yvpw\u001b[0m\n",
      "Key binding JWT header: \u001b[31m{\n",
      "  \"alg\": \"ES256\",\n",
      "  \"typ\": \"kb+jwt\"\n",
      "}\u001b[0m\n",
      "Key binding JWT body: \u001b[32m{\n",
      "  \"nonce\": \"a-very-secret-and-random-nonce\",\n",
      "  \"aud\": \"the-verifier\",\n",
      "  \"iat\": 1702650714,\n",
      "  \"_sd_hash\": \"vnZv0GOg9XAyi2Z9a5f8tajkP8iJNfYXTWNiJYAk5EM\"\n",
      "}\u001b[0m\n"
     ]
    }
   ],
   "source": [
    "print(\"Key binding JWT:\")\n",
    "# the keybinding JWT is the very last part of the presentation payload\n",
    "keybinding_jwt = presentation.split('~')[-1]\n",
    "print(explain_jwt(keybinding_jwt))\n",
    "\n",
    "header = b64decode(keybinding_jwt.split('.')[0])\n",
    "body = b64decode(keybinding_jwt.split('.')[1])\n",
    "\n",
    "print(f\"Key binding JWT header: \\x1b[31m{pretty(header)}\\x1b[0m\")\n",
    "print(f\"Key binding JWT body: \\x1b[32m{pretty(body)}\\x1b[0m\")"
   ]
  },
  {
   "cell_type": "markdown",
   "metadata": {
    "collapsed": false,
    "jupyter": {
     "outputs_hidden": false
    }
   },
   "source": [
    "# Nested data in SD-JWT\n",
    "\n",
    "* [Flat structure (as was demonstrated here)](https://datatracker.ietf.org/doc/html/draft-ietf-oauth-selective-disclosure-jwt-05#name-option-1-flat-sd-jwt)\n",
    "* [Structured SD-JWT](https://datatracker.ietf.org/doc/html/draft-ietf-oauth-selective-disclosure-jwt-05#name-option-2-structured-sd-jwt), where the SD-JWT contains nested structures.\n",
    "    * Note: nested objects may contain selectively disclosable elements and, as such, an `_sd` array of disclosures\n",
    "* [Recursive disclosures](https://datatracker.ietf.org/doc/html/draft-ietf-oauth-selective-disclosure-jwt-05#name-option-3-sd-jwt-with-recurs). Disclosures themselves can contain selectively disclosable elements\n",
    "\n",
    "All this implies that it is possible to represent a payload compatible with the [W3C Verifiable Credential Data Model](https://datatracker.ietf.org/doc/html/draft-ietf-oauth-selective-disclosure-jwt-05#name-example-4b-w3c-verifiable-c) specification (although this comes with a few more caveats).\n"
   ]
  },
  {
   "cell_type": "markdown",
   "metadata": {
    "collapsed": false,
    "jupyter": {
     "outputs_hidden": false
    }
   },
   "source": [
    "# Is it crypto-agile though ?\n",
    "\n",
    "SD-JWT benefits from the agility of regular JWTs, supporting `EdDSA`, `ECDSA` over a number of curves and `RSA`.\n",
    "The disclosures rely on a hashing function, defaulted to `SHA-256`, that can be configured on a per-credential basis."
   ]
  },
  {
   "cell_type": "code",
   "execution_count": 9,
   "metadata": {
    "collapsed": false,
    "jupyter": {
     "outputs_hidden": false
    }
   },
   "outputs": [
    {
     "name": "stdout",
     "output_type": "stream",
     "text": [
      "\n",
      "Decoded header:\n",
      "{\n",
      "  \"\u001b[31malg\u001b[0m\": \"ES256\",\n",
      "  \"typ\": \"example+sd-jwt\"\n",
      "}\n",
      "Decoded body:\n",
      "{\n",
      "  \"_sd\": [\n",
      "    \"Jlmd0QD2NyN-uPmtXDqseD-X_kAm-C1hodjp_11sFWE\",\n",
      "    \"_VtfHtTaheq8CGGxjc1WPkvRI5XhQLKXmJTOs5gzBzI\"\n",
      "  ],\n",
      "  \"walk\": \"duck\",\n",
      "  \"\u001b[31m_sd_alg\u001b[0m\": \"sha-256\",\n",
      "  \"cnf\": {\n",
      "    \"jwk\": {\n",
      "      \"kty\": \"EC\",\n",
      "      \"crv\": \"P-256\",\n",
      "      \"x\": \"iVcxNS3TXbBxPUe5goPAuS4Z2YhYZuIos0YzsBf_Ses\",\n",
      "      \"y\": \"NUQYx-vytSZ30i7NniOpgPyHg0KyH_jMJzXQ45WVrQo\"\n",
      "    }\n",
      "  }\n",
      "}\n"
     ]
    }
   ],
   "source": [
    "_, serialized_sd_jwt, _, _ = issue_simple_sd_jwt(issuer_key, claims, holder_key.public())\n",
    "headers, body, signature = serialized_sd_jwt.split('.')\n",
    "print()\n",
    "print(\"Decoded header:\")\n",
    "print(f\"{highlight(pretty(b64decode(headers)), 'alg')}\")\n",
    "print(\"Decoded body:\")\n",
    "print(f\"{highlight(pretty(b64decode(body)), '_sd_alg')}\")"
   ]
  },
  {
   "cell_type": "markdown",
   "metadata": {
    "collapsed": false,
    "jupyter": {
     "outputs_hidden": false
    }
   },
   "source": [
    "# Buyer's guide to privacy\n",
    "\n",
    "So are you ready to buy your very own SD-JWT ? A simple improvement over JWTs, providing a flexible and crypto-agile way of doing selective disclosure !\n",
    "Put the credit card away for a second and let's discuss the privacy drawback.\n",
    "\n",
    "* Claims counting (and decoy claims), where information can be derived from the number of claim a credential contain\n",
    "* Verifiers linkability (and batch issuance), where verifiers collude to exchange information on the holder\n",
    "* Issuer linkability (no cure for that), where issuer can always tie the credential it issued to the data that was issued\n",
    "\n",
    "## Claims counting"
   ]
  },
  {
   "cell_type": "code",
   "execution_count": 10,
   "metadata": {
    "collapsed": false,
    "jupyter": {
     "outputs_hidden": false
    }
   },
   "outputs": [
    {
     "name": "stdout",
     "output_type": "stream",
     "text": [
      "Citizen credential:\n",
      "{\n",
      "  \"_sd\": [\n",
      "    \"J_3_m7lT1nU89iArE4Aedv6ORI_9WfkSA3dUoSMyP-w\",\n",
      "    \"nJhs0wmYD12KkPUtdVDzomLaQDp9kYwrnOr_wxtjAb4\"\n",
      "  ],\n",
      "  \"_sd_alg\": \"sha-256\"\n",
      "}\n",
      "\n",
      "Resident credential:\n",
      "{\n",
      "  \"_sd\": [\n",
      "    \"XLbYGeRmoMazpwn4vbvns9T6WahrIHrJbZB3F2ViZXc\",\n",
      "    \"uHFD62Y0p9t0lzNmtUv4VqXSMlch-beKreYm8WIzhIM\",\n",
      "    \"v3hCVz60XM9wMBvbsJPgX20KVPvngY0QMC5RCyAQ4ac\"\n",
      "  ],\n",
      "  \"_sd_alg\": \"sha-256\"\n",
      "}\n"
     ]
    }
   ],
   "source": [
    "# Let's issue some more credentials\n",
    "citizen_claims = {\n",
    "    SDObj(\"first name\"): \"Uncle\",\n",
    "    SDObj(\"last_name\"): \"Scrooge\",\n",
    "}\n",
    "\n",
    "resident_claims = {\n",
    "    SDObj(\"first_name\"): \"Donald\",\n",
    "    SDObj(\"last_name\"): \"Duck\",\n",
    "    SDObj(\"residency_permit\"): \"C permit\",\n",
    "}\n",
    "\n",
    "_, citizen_credential, _, _ = issue_simple_sd_jwt(issuer_key, citizen_claims)\n",
    "_, resident_credential, _, _ = issue_simple_sd_jwt(issuer_key, resident_claims)\n",
    "\n",
    "print(\"Citizen credential:\")\n",
    "print(pretty(b64decode(citizen_credential.split('.')[1])))\n",
    "print()\n",
    "print(\"Resident credential:\")\n",
    "print(pretty(b64decode(resident_credential.split('.')[1])))"
   ]
  },
  {
   "cell_type": "markdown",
   "metadata": {
    "collapsed": false,
    "jupyter": {
     "outputs_hidden": false
    }
   },
   "source": [
    "## Decoy claims\n",
    "\n",
    "The specified mitigation for this kind of information leaks is \"[decoy digests](https://datatracker.ietf.org/doc/html/draft-ietf-oauth-selective-disclosure-jwt-05#name-decoy-digests)\".\n",
    "It consists in adding well-formatted hashes in the `_sd` array without the digest matching any real claim. This hides the number of\n",
    "real claims that are selectively disclosable. It comes with some caveats though, an issuer cannot just add a set number of decoy claims because anybody in possession of a credential can guess the number of claims in other holders number of claims. It is likely that in a lot of scenario some form of information leakage in the form of bounding the number of claims can happen.\n",
    "\n",
    "It is, of course, best if issuers can maintain a constant number of claims across credentials of a given type. But this might not be the case at all in \"on demand issuance\" scenarios where issued credentials are tailored based on the holder's needs."
   ]
  },
  {
   "cell_type": "code",
   "execution_count": 11,
   "metadata": {
    "collapsed": false,
    "jupyter": {
     "outputs_hidden": false
    }
   },
   "outputs": [
    {
     "name": "stdout",
     "output_type": "stream",
     "text": [
      "Resident credential:\n",
      "{\n",
      "  \"_sd\": [\n",
      "    \"MBVOdB0OIEvTO8uU4QKDnSle3g76BLRv-N3_hZJ15-o\",\n",
      "    \"UcqrXgKG4x4I4DUEYmVBYJ8J92yxX9BuKxymq3z3SBQ\",\n",
      "    \"c6k9le4wk3PLISISXqa7BvWnoiBnlcT4WXqr3nYe06U\",\n",
      "    \"e5sLHtWDc1XaV2pGy1zXTdSdyABMI7uoyIwjBtOsD_s\",\n",
      "    \"mvNhPM6tWsHeM1HFlACtb2vPiNO8qhl4ubC-olgx60s\",\n",
      "    \"w8faIcKWkcAuXgiPdjMpdsCvcK2Q3YE9raAchoFMPEc\"\n",
      "  ],\n",
      "  \"_sd_alg\": \"sha-256\"\n",
      "}\n"
     ]
    }
   ],
   "source": [
    "# Let's add some decoys\n",
    "\n",
    "# We issue the same number of claims as before but end up with more entries in the _sd array\n",
    "_, resident_credential, _, full_resident_credential_issuance = issue_simple_sd_jwt(issuer_key, resident_claims, decoys=True)\n",
    "\n",
    "print(\"Resident credential:\")\n",
    "print(pretty(b64decode(resident_credential.split('.')[1])))\n"
   ]
  },
  {
   "cell_type": "markdown",
   "metadata": {
    "collapsed": false,
    "jupyter": {
     "outputs_hidden": false
    }
   },
   "source": [
    "# Verifiers linkability\n",
    "\n",
    "We talk here of cryptographic linkability. The possiblity of verifiers correlating holders based on their credential's signatures, disclosures hashes etc. Not about the linkability of the data that is being disclosed.\n",
    "\n",
    "The main credential being a JWT, it is presented in its entirety to each verifiers. Because of this, the JWT signature, a unique identifier for the credential, is shared with each verifier. It makes it trivial for\n",
    "verifiers to collude and share the disclosures that were revealed to them."
   ]
  },
  {
   "cell_type": "code",
   "execution_count": 12,
   "metadata": {
    "collapsed": false,
    "jupyter": {
     "outputs_hidden": false
    }
   },
   "outputs": [
    {
     "name": "stdout",
     "output_type": "stream",
     "text": [
      "Signature: nqoKwksSODhbJhOgmgadtLy8SwLH3R-q36RmGH9lML0xPaXeJ9bvJSpaIV-zHYpjCUJNf2FikmQdvJz5ATvNfA\n",
      "\t['[\"mkiL-MLNL3eMClIQLKhBqA\", \"first_name\", \"Donald\"]', '']\n",
      "\t['[\"VAz3nmv2U_WdSke_xawNDw\", \"last_name\", \"Duck\"]', '']\n",
      "\n",
      "Let's have a look at the presentation (in particular the signature):\n",
      "\u001b[31meyJhbGciOiAiRVMyNTYiLCAidHlwIjogImV4YW1wbGUrc2Qtand0In0\u001b[0m.\u001b[32meyJfc2QiOiBbIk1CVk9kQjBPSUV2VE84dVU0UUtEblNsZTNnNzZCTFJ2LU4zX2haSjE1LW8iLCAiVWNxclhnS0c0eDRJNERVRVltVkJZSjhKOTJ5eFg5QnVLeHltcTN6M1NCUSIsICJjNms5bGU0d2szUExJU0lTWHFhN0J2V25vaUJubGNUNFdYcXIzblllMDZVIiwgImU1c0xIdFdEYzFYYVYycEd5MXpYVGRTZHlBQk1JN3VveUl3akJ0T3NEX3MiLCAibXZOaFBNNnRXc0hlTTFIRmxBQ3RiMnZQaU5POHFobDR1YkMtb2xneDYwcyIsICJ3OGZhSWNLV2tjQXVYZ2lQZGpNcGRzQ3ZjSzJRM1lFOXJhQWNob0ZNUEVjIl0sICJfc2RfYWxnIjogInNoYS0yNTYifQ\u001b[0m.\u001b[33mnqoKwksSODhbJhOgmgadtLy8SwLH3R-q36RmGH9lML0xPaXeJ9bvJSpaIV-zHYpjCUJNf2FikmQdvJz5ATvNfA\u001b[0m~\u001b[34mWyJWQXozbm12MlVfV2RTa2VfeGF3TkR3IiwgImxhc3RfbmFtZSIsICJEdWNrIl0\u001b[0m~\u001b[35m\u001b[0m\n"
     ]
    }
   ],
   "source": [
    "from collections import defaultdict\n",
    "\n",
    "# Let's be nasty verifiers and share disclosures\n",
    "known_jwts = defaultdict(list)\n",
    "\n",
    "def register_jwt(presentation: str):\n",
    "    signature = presentation.split('~')[0].split('.')[2]\n",
    "\n",
    "    _, *disclosures = presentation.split('~')\n",
    "    disclosures = [b64decode(d) for d in disclosures]\n",
    "\n",
    "    known_jwts[signature].append(disclosures)\n",
    "\n",
    "# First presentation\n",
    "presentation, _ = create_presentation(\n",
    "    full_resident_credential_issuance, [\"first_name\"]\n",
    ")\n",
    "register_jwt(presentation)\n",
    "\n",
    "# Second presentation to another verifier\n",
    "presentation, _ = create_presentation(\n",
    "    full_resident_credential_issuance, [\"last_name\"]\n",
    ")\n",
    "register_jwt(presentation)\n",
    "\n",
    "# Let's see what we've learned\n",
    "for (signature, claims) in known_jwts.items():\n",
    "    print(f\"Signature: {signature}\")\n",
    "    for claim in claims:\n",
    "        print(f\"\\t{claim}\")\n",
    "\n",
    "print()\n",
    "print(\"Let's have a look at the presentation (in particular the signature):\")\n",
    "print(explain_jwt(presentation, presentation_jwt=True))"
   ]
  },
  {
   "cell_type": "markdown",
   "metadata": {
    "collapsed": false,
    "jupyter": {
     "outputs_hidden": false
    }
   },
   "source": [
    "## Verifiers collusion mitigation\n",
    "\n",
    "The recommendation to mitigate verifiers collusion is [batch issuance](https://datatracker.ietf.org/doc/html/draft-ietf-oauth-selective-disclosure-jwt-05#name-unlinkability).\n",
    "\n",
    "Each issuance involves different salts for the disclosures, and thus a different signature, making it impossible for verifiers to collude through the use of cryptographic identifiers. Colluding and using revealed claims as correlators is always an option of course.\n",
    "\n",
    "## Issuer linkability\n",
    "\n",
    "Each presentation contains the JWT exactly as it was issued. This means that issuers that also act as verifiers (think e-voting system) or that can observe presentations (through collusion with verifiers for example) can trivially link presentations with the original credential and the data it contains."
   ]
  },
  {
   "cell_type": "markdown",
   "metadata": {
    "collapsed": false,
    "jupyter": {
     "outputs_hidden": false
    }
   },
   "source": [
    "# And now for something completely different\n",
    "\n",
    "Did you know that llamas are related to camels, stick their tongue out to express dislike of other llamas and can spit over 15 feet away ?"
   ]
  }
 ],
 "metadata": {
  "kernelspec": {
   "display_name": "Python 3 (ipykernel)",
   "language": "python",
   "name": "python3"
  },
  "language_info": {
   "codemirror_mode": {
    "name": "ipython",
    "version": 3
   },
   "file_extension": ".py",
   "mimetype": "text/x-python",
   "name": "python",
   "nbconvert_exporter": "python",
   "pygments_lexer": "ipython3",
   "version": "3.9.16"
  }
 },
 "nbformat": 4,
 "nbformat_minor": 4
}
